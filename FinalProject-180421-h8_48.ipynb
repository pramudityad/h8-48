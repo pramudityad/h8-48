{
 "cells": [
  {
   "cell_type": "markdown",
   "metadata": {},
   "source": [
    "# Background"
   ]
  },
  {
   "cell_type": "code",
   "execution_count": 48,
   "metadata": {},
   "outputs": [],
   "source": [
    "import numpy as np\n",
    "import pandas as pd\n",
    "%matplotlib inline \n",
    "import matplotlib.pyplot as plt, seaborn as sns\n",
    "import matplotlib as mpl\n",
    "from scipy.stats import mannwhitneyu\n",
    "from sklearn.linear_model import LinearRegression\n",
    "from sklearn import metrics"
   ]
  },
  {
   "cell_type": "markdown",
   "metadata": {},
   "source": [
    "### Gather Data"
   ]
  },
  {
   "cell_type": "code",
   "execution_count": 3,
   "metadata": {},
   "outputs": [
    {
     "name": "stdout",
     "output_type": "stream",
     "text": [
      "Dataset read successfully\n"
     ]
    }
   ],
   "source": [
    "df=pd.read_csv('./dataset/country_vaccinations.csv')\n",
    "print('Dataset read successfully')"
   ]
  },
  {
   "cell_type": "code",
   "execution_count": 4,
   "metadata": {},
   "outputs": [
    {
     "data": {
      "text/html": [
       "<div>\n",
       "<style scoped>\n",
       "    .dataframe tbody tr th:only-of-type {\n",
       "        vertical-align: middle;\n",
       "    }\n",
       "\n",
       "    .dataframe tbody tr th {\n",
       "        vertical-align: top;\n",
       "    }\n",
       "\n",
       "    .dataframe thead th {\n",
       "        text-align: right;\n",
       "    }\n",
       "</style>\n",
       "<table border=\"1\" class=\"dataframe\">\n",
       "  <thead>\n",
       "    <tr style=\"text-align: right;\">\n",
       "      <th></th>\n",
       "      <th>country</th>\n",
       "      <th>iso_code</th>\n",
       "      <th>date</th>\n",
       "      <th>total_vaccinations</th>\n",
       "      <th>people_vaccinated</th>\n",
       "      <th>people_fully_vaccinated</th>\n",
       "      <th>daily_vaccinations_raw</th>\n",
       "      <th>daily_vaccinations</th>\n",
       "      <th>total_vaccinations_per_hundred</th>\n",
       "      <th>people_vaccinated_per_hundred</th>\n",
       "      <th>people_fully_vaccinated_per_hundred</th>\n",
       "      <th>daily_vaccinations_per_million</th>\n",
       "      <th>vaccines</th>\n",
       "      <th>source_name</th>\n",
       "      <th>source_website</th>\n",
       "    </tr>\n",
       "  </thead>\n",
       "  <tbody>\n",
       "    <tr>\n",
       "      <th>0</th>\n",
       "      <td>Afghanistan</td>\n",
       "      <td>AFG</td>\n",
       "      <td>2021-02-22</td>\n",
       "      <td>0.0</td>\n",
       "      <td>0.0</td>\n",
       "      <td>NaN</td>\n",
       "      <td>NaN</td>\n",
       "      <td>NaN</td>\n",
       "      <td>0.0</td>\n",
       "      <td>0.0</td>\n",
       "      <td>NaN</td>\n",
       "      <td>NaN</td>\n",
       "      <td>Oxford/AstraZeneca</td>\n",
       "      <td>Government of Afghanistan</td>\n",
       "      <td>http://www.xinhuanet.com/english/asiapacific/2...</td>\n",
       "    </tr>\n",
       "    <tr>\n",
       "      <th>1</th>\n",
       "      <td>Afghanistan</td>\n",
       "      <td>AFG</td>\n",
       "      <td>2021-02-23</td>\n",
       "      <td>NaN</td>\n",
       "      <td>NaN</td>\n",
       "      <td>NaN</td>\n",
       "      <td>NaN</td>\n",
       "      <td>1367.0</td>\n",
       "      <td>NaN</td>\n",
       "      <td>NaN</td>\n",
       "      <td>NaN</td>\n",
       "      <td>35.0</td>\n",
       "      <td>Oxford/AstraZeneca</td>\n",
       "      <td>Government of Afghanistan</td>\n",
       "      <td>http://www.xinhuanet.com/english/asiapacific/2...</td>\n",
       "    </tr>\n",
       "    <tr>\n",
       "      <th>2</th>\n",
       "      <td>Afghanistan</td>\n",
       "      <td>AFG</td>\n",
       "      <td>2021-02-24</td>\n",
       "      <td>NaN</td>\n",
       "      <td>NaN</td>\n",
       "      <td>NaN</td>\n",
       "      <td>NaN</td>\n",
       "      <td>1367.0</td>\n",
       "      <td>NaN</td>\n",
       "      <td>NaN</td>\n",
       "      <td>NaN</td>\n",
       "      <td>35.0</td>\n",
       "      <td>Oxford/AstraZeneca</td>\n",
       "      <td>Government of Afghanistan</td>\n",
       "      <td>http://www.xinhuanet.com/english/asiapacific/2...</td>\n",
       "    </tr>\n",
       "    <tr>\n",
       "      <th>3</th>\n",
       "      <td>Afghanistan</td>\n",
       "      <td>AFG</td>\n",
       "      <td>2021-02-25</td>\n",
       "      <td>NaN</td>\n",
       "      <td>NaN</td>\n",
       "      <td>NaN</td>\n",
       "      <td>NaN</td>\n",
       "      <td>1367.0</td>\n",
       "      <td>NaN</td>\n",
       "      <td>NaN</td>\n",
       "      <td>NaN</td>\n",
       "      <td>35.0</td>\n",
       "      <td>Oxford/AstraZeneca</td>\n",
       "      <td>Government of Afghanistan</td>\n",
       "      <td>http://www.xinhuanet.com/english/asiapacific/2...</td>\n",
       "    </tr>\n",
       "    <tr>\n",
       "      <th>4</th>\n",
       "      <td>Afghanistan</td>\n",
       "      <td>AFG</td>\n",
       "      <td>2021-02-26</td>\n",
       "      <td>NaN</td>\n",
       "      <td>NaN</td>\n",
       "      <td>NaN</td>\n",
       "      <td>NaN</td>\n",
       "      <td>1367.0</td>\n",
       "      <td>NaN</td>\n",
       "      <td>NaN</td>\n",
       "      <td>NaN</td>\n",
       "      <td>35.0</td>\n",
       "      <td>Oxford/AstraZeneca</td>\n",
       "      <td>Government of Afghanistan</td>\n",
       "      <td>http://www.xinhuanet.com/english/asiapacific/2...</td>\n",
       "    </tr>\n",
       "  </tbody>\n",
       "</table>\n",
       "</div>"
      ],
      "text/plain": [
       "       country iso_code        date  total_vaccinations  people_vaccinated  \\\n",
       "0  Afghanistan      AFG  2021-02-22                 0.0                0.0   \n",
       "1  Afghanistan      AFG  2021-02-23                 NaN                NaN   \n",
       "2  Afghanistan      AFG  2021-02-24                 NaN                NaN   \n",
       "3  Afghanistan      AFG  2021-02-25                 NaN                NaN   \n",
       "4  Afghanistan      AFG  2021-02-26                 NaN                NaN   \n",
       "\n",
       "   people_fully_vaccinated  daily_vaccinations_raw  daily_vaccinations  \\\n",
       "0                      NaN                     NaN                 NaN   \n",
       "1                      NaN                     NaN              1367.0   \n",
       "2                      NaN                     NaN              1367.0   \n",
       "3                      NaN                     NaN              1367.0   \n",
       "4                      NaN                     NaN              1367.0   \n",
       "\n",
       "   total_vaccinations_per_hundred  people_vaccinated_per_hundred  \\\n",
       "0                             0.0                            0.0   \n",
       "1                             NaN                            NaN   \n",
       "2                             NaN                            NaN   \n",
       "3                             NaN                            NaN   \n",
       "4                             NaN                            NaN   \n",
       "\n",
       "   people_fully_vaccinated_per_hundred  daily_vaccinations_per_million  \\\n",
       "0                                  NaN                             NaN   \n",
       "1                                  NaN                            35.0   \n",
       "2                                  NaN                            35.0   \n",
       "3                                  NaN                            35.0   \n",
       "4                                  NaN                            35.0   \n",
       "\n",
       "             vaccines                source_name  \\\n",
       "0  Oxford/AstraZeneca  Government of Afghanistan   \n",
       "1  Oxford/AstraZeneca  Government of Afghanistan   \n",
       "2  Oxford/AstraZeneca  Government of Afghanistan   \n",
       "3  Oxford/AstraZeneca  Government of Afghanistan   \n",
       "4  Oxford/AstraZeneca  Government of Afghanistan   \n",
       "\n",
       "                                      source_website  \n",
       "0  http://www.xinhuanet.com/english/asiapacific/2...  \n",
       "1  http://www.xinhuanet.com/english/asiapacific/2...  \n",
       "2  http://www.xinhuanet.com/english/asiapacific/2...  \n",
       "3  http://www.xinhuanet.com/english/asiapacific/2...  \n",
       "4  http://www.xinhuanet.com/english/asiapacific/2...  "
      ]
     },
     "execution_count": 4,
     "metadata": {},
     "output_type": "execute_result"
    }
   ],
   "source": [
    "df.head()"
   ]
  },
  {
   "cell_type": "code",
   "execution_count": 5,
   "metadata": {},
   "outputs": [
    {
     "data": {
      "text/html": [
       "<div>\n",
       "<style scoped>\n",
       "    .dataframe tbody tr th:only-of-type {\n",
       "        vertical-align: middle;\n",
       "    }\n",
       "\n",
       "    .dataframe tbody tr th {\n",
       "        vertical-align: top;\n",
       "    }\n",
       "\n",
       "    .dataframe thead th {\n",
       "        text-align: right;\n",
       "    }\n",
       "</style>\n",
       "<table border=\"1\" class=\"dataframe\">\n",
       "  <thead>\n",
       "    <tr style=\"text-align: right;\">\n",
       "      <th></th>\n",
       "      <th>country</th>\n",
       "      <th>iso_code</th>\n",
       "      <th>date</th>\n",
       "      <th>total_vaccinations</th>\n",
       "      <th>people_vaccinated</th>\n",
       "      <th>people_fully_vaccinated</th>\n",
       "      <th>daily_vaccinations_raw</th>\n",
       "      <th>daily_vaccinations</th>\n",
       "      <th>total_vaccinations_per_hundred</th>\n",
       "      <th>people_vaccinated_per_hundred</th>\n",
       "      <th>people_fully_vaccinated_per_hundred</th>\n",
       "      <th>daily_vaccinations_per_million</th>\n",
       "      <th>vaccines</th>\n",
       "      <th>source_name</th>\n",
       "      <th>source_website</th>\n",
       "    </tr>\n",
       "  </thead>\n",
       "  <tbody>\n",
       "    <tr>\n",
       "      <th>12151</th>\n",
       "      <td>Zimbabwe</td>\n",
       "      <td>ZWE</td>\n",
       "      <td>2021-04-12</td>\n",
       "      <td>234579.0</td>\n",
       "      <td>205275.0</td>\n",
       "      <td>29304.0</td>\n",
       "      <td>11087.0</td>\n",
       "      <td>12724.0</td>\n",
       "      <td>1.58</td>\n",
       "      <td>1.38</td>\n",
       "      <td>0.20</td>\n",
       "      <td>856.0</td>\n",
       "      <td>Sinopharm/Beijing</td>\n",
       "      <td>Ministry of Health</td>\n",
       "      <td>https://twitter.com/MoHCCZim/status/1383174384...</td>\n",
       "    </tr>\n",
       "    <tr>\n",
       "      <th>12152</th>\n",
       "      <td>Zimbabwe</td>\n",
       "      <td>ZWE</td>\n",
       "      <td>2021-04-13</td>\n",
       "      <td>248355.0</td>\n",
       "      <td>218516.0</td>\n",
       "      <td>29839.0</td>\n",
       "      <td>13776.0</td>\n",
       "      <td>12246.0</td>\n",
       "      <td>1.67</td>\n",
       "      <td>1.47</td>\n",
       "      <td>0.20</td>\n",
       "      <td>824.0</td>\n",
       "      <td>Sinopharm/Beijing</td>\n",
       "      <td>Ministry of Health</td>\n",
       "      <td>https://twitter.com/MoHCCZim/status/1383174384...</td>\n",
       "    </tr>\n",
       "    <tr>\n",
       "      <th>12153</th>\n",
       "      <td>Zimbabwe</td>\n",
       "      <td>ZWE</td>\n",
       "      <td>2021-04-14</td>\n",
       "      <td>262128.0</td>\n",
       "      <td>231632.0</td>\n",
       "      <td>30496.0</td>\n",
       "      <td>13773.0</td>\n",
       "      <td>11816.0</td>\n",
       "      <td>1.76</td>\n",
       "      <td>1.56</td>\n",
       "      <td>0.21</td>\n",
       "      <td>795.0</td>\n",
       "      <td>Sinopharm/Beijing</td>\n",
       "      <td>Ministry of Health</td>\n",
       "      <td>https://twitter.com/MoHCCZim/status/1383174384...</td>\n",
       "    </tr>\n",
       "    <tr>\n",
       "      <th>12154</th>\n",
       "      <td>Zimbabwe</td>\n",
       "      <td>ZWE</td>\n",
       "      <td>2021-04-15</td>\n",
       "      <td>285881.0</td>\n",
       "      <td>252932.0</td>\n",
       "      <td>32949.0</td>\n",
       "      <td>23753.0</td>\n",
       "      <td>13172.0</td>\n",
       "      <td>1.92</td>\n",
       "      <td>1.70</td>\n",
       "      <td>0.22</td>\n",
       "      <td>886.0</td>\n",
       "      <td>Sinopharm/Beijing</td>\n",
       "      <td>Ministry of Health</td>\n",
       "      <td>https://twitter.com/MoHCCZim/status/1383174384...</td>\n",
       "    </tr>\n",
       "    <tr>\n",
       "      <th>12155</th>\n",
       "      <td>Zimbabwe</td>\n",
       "      <td>ZWE</td>\n",
       "      <td>2021-04-16</td>\n",
       "      <td>304701.0</td>\n",
       "      <td>269732.0</td>\n",
       "      <td>34969.0</td>\n",
       "      <td>18820.0</td>\n",
       "      <td>14071.0</td>\n",
       "      <td>2.05</td>\n",
       "      <td>1.81</td>\n",
       "      <td>0.24</td>\n",
       "      <td>947.0</td>\n",
       "      <td>Sinopharm/Beijing</td>\n",
       "      <td>Ministry of Health</td>\n",
       "      <td>https://twitter.com/MoHCCZim/status/1383174384...</td>\n",
       "    </tr>\n",
       "  </tbody>\n",
       "</table>\n",
       "</div>"
      ],
      "text/plain": [
       "        country iso_code        date  total_vaccinations  people_vaccinated  \\\n",
       "12151  Zimbabwe      ZWE  2021-04-12            234579.0           205275.0   \n",
       "12152  Zimbabwe      ZWE  2021-04-13            248355.0           218516.0   \n",
       "12153  Zimbabwe      ZWE  2021-04-14            262128.0           231632.0   \n",
       "12154  Zimbabwe      ZWE  2021-04-15            285881.0           252932.0   \n",
       "12155  Zimbabwe      ZWE  2021-04-16            304701.0           269732.0   \n",
       "\n",
       "       people_fully_vaccinated  daily_vaccinations_raw  daily_vaccinations  \\\n",
       "12151                  29304.0                 11087.0             12724.0   \n",
       "12152                  29839.0                 13776.0             12246.0   \n",
       "12153                  30496.0                 13773.0             11816.0   \n",
       "12154                  32949.0                 23753.0             13172.0   \n",
       "12155                  34969.0                 18820.0             14071.0   \n",
       "\n",
       "       total_vaccinations_per_hundred  people_vaccinated_per_hundred  \\\n",
       "12151                            1.58                           1.38   \n",
       "12152                            1.67                           1.47   \n",
       "12153                            1.76                           1.56   \n",
       "12154                            1.92                           1.70   \n",
       "12155                            2.05                           1.81   \n",
       "\n",
       "       people_fully_vaccinated_per_hundred  daily_vaccinations_per_million  \\\n",
       "12151                                 0.20                           856.0   \n",
       "12152                                 0.20                           824.0   \n",
       "12153                                 0.21                           795.0   \n",
       "12154                                 0.22                           886.0   \n",
       "12155                                 0.24                           947.0   \n",
       "\n",
       "                vaccines         source_name  \\\n",
       "12151  Sinopharm/Beijing  Ministry of Health   \n",
       "12152  Sinopharm/Beijing  Ministry of Health   \n",
       "12153  Sinopharm/Beijing  Ministry of Health   \n",
       "12154  Sinopharm/Beijing  Ministry of Health   \n",
       "12155  Sinopharm/Beijing  Ministry of Health   \n",
       "\n",
       "                                          source_website  \n",
       "12151  https://twitter.com/MoHCCZim/status/1383174384...  \n",
       "12152  https://twitter.com/MoHCCZim/status/1383174384...  \n",
       "12153  https://twitter.com/MoHCCZim/status/1383174384...  \n",
       "12154  https://twitter.com/MoHCCZim/status/1383174384...  \n",
       "12155  https://twitter.com/MoHCCZim/status/1383174384...  "
      ]
     },
     "execution_count": 5,
     "metadata": {},
     "output_type": "execute_result"
    }
   ],
   "source": [
    "df.tail()"
   ]
  },
  {
   "cell_type": "markdown",
   "metadata": {},
   "source": [
    "### Basic Info Data"
   ]
  },
  {
   "cell_type": "code",
   "execution_count": 6,
   "metadata": {},
   "outputs": [
    {
     "name": "stdout",
     "output_type": "stream",
     "text": [
      "shape of data is: (12156, 15)\n",
      "<class 'pandas.core.frame.DataFrame'>\n",
      "RangeIndex: 12156 entries, 0 to 12155\n",
      "Data columns (total 15 columns):\n",
      " #   Column                               Non-Null Count  Dtype  \n",
      "---  ------                               --------------  -----  \n",
      " 0   country                              12156 non-null  object \n",
      " 1   iso_code                             12156 non-null  object \n",
      " 2   date                                 12156 non-null  object \n",
      " 3   total_vaccinations                   7316 non-null   float64\n",
      " 4   people_vaccinated                    6661 non-null   float64\n",
      " 5   people_fully_vaccinated              4784 non-null   float64\n",
      " 6   daily_vaccinations_raw               6158 non-null   float64\n",
      " 7   daily_vaccinations                   11946 non-null  float64\n",
      " 8   total_vaccinations_per_hundred       7316 non-null   float64\n",
      " 9   people_vaccinated_per_hundred        6661 non-null   float64\n",
      " 10  people_fully_vaccinated_per_hundred  4784 non-null   float64\n",
      " 11  daily_vaccinations_per_million       11946 non-null  float64\n",
      " 12  vaccines                             12156 non-null  object \n",
      " 13  source_name                          12156 non-null  object \n",
      " 14  source_website                       12156 non-null  object \n",
      "dtypes: float64(9), object(6)\n",
      "memory usage: 1.4+ MB\n",
      "None\n"
     ]
    }
   ],
   "source": [
    "print('shape of data is:',df.shape)\n",
    "print(df.info())"
   ]
  },
  {
   "cell_type": "code",
   "execution_count": 7,
   "metadata": {
    "scrolled": true
   },
   "outputs": [
    {
     "data": {
      "text/plain": [
       "country                                   0\n",
       "iso_code                                  0\n",
       "date                                      0\n",
       "total_vaccinations                     4840\n",
       "people_vaccinated                      5495\n",
       "people_fully_vaccinated                7372\n",
       "daily_vaccinations_raw                 5998\n",
       "daily_vaccinations                      210\n",
       "total_vaccinations_per_hundred         4840\n",
       "people_vaccinated_per_hundred          5495\n",
       "people_fully_vaccinated_per_hundred    7372\n",
       "daily_vaccinations_per_million          210\n",
       "vaccines                                  0\n",
       "source_name                               0\n",
       "source_website                            0\n",
       "dtype: int64"
      ]
     },
     "execution_count": 7,
     "metadata": {},
     "output_type": "execute_result"
    }
   ],
   "source": [
    "# counting missing values\n",
    "df.isnull().sum()"
   ]
  },
  {
   "cell_type": "markdown",
   "metadata": {},
   "source": [
    "there's some column have missing data"
   ]
  },
  {
   "cell_type": "markdown",
   "metadata": {},
   "source": [
    "### Data Preprocessing"
   ]
  },
  {
   "cell_type": "code",
   "execution_count": 8,
   "metadata": {},
   "outputs": [],
   "source": [
    "# missing value\n",
    "# lets drop total_vaccinations missing value, without this any raw data doesnt make sense\n",
    "prep_data = df.drop(df[df['total_vaccinations'].isna()].index)"
   ]
  },
  {
   "cell_type": "code",
   "execution_count": 9,
   "metadata": {},
   "outputs": [
    {
     "data": {
      "text/plain": [
       "country                                   0\n",
       "iso_code                                  0\n",
       "date                                      0\n",
       "total_vaccinations                        0\n",
       "people_vaccinated                       756\n",
       "people_fully_vaccinated                2537\n",
       "daily_vaccinations_raw                 1158\n",
       "daily_vaccinations                      182\n",
       "total_vaccinations_per_hundred            0\n",
       "people_vaccinated_per_hundred           756\n",
       "people_fully_vaccinated_per_hundred    2537\n",
       "daily_vaccinations_per_million          182\n",
       "vaccines                                  0\n",
       "source_name                               0\n",
       "source_website                            0\n",
       "dtype: int64"
      ]
     },
     "execution_count": 9,
     "metadata": {},
     "output_type": "execute_result"
    }
   ],
   "source": [
    "prep_data.isnull().sum()"
   ]
  },
  {
   "cell_type": "markdown",
   "metadata": {},
   "source": [
    "we can see from above few data is corelated \\\n",
    "``people_vaccinated = people_vaccinated_per_hundred \n",
    "people_fully_vaccinated = people_fully_vaccinated_per_hundred \n",
    "daily_vaccinations = daily_vaccinations_per_million ``\\\n",
    "lets check the correlation plot"
   ]
  },
  {
   "cell_type": "code",
   "execution_count": 10,
   "metadata": {},
   "outputs": [
    {
     "data": {
      "image/png": "[encoded data removed]",
      "text/plain": [
       "<Figure size 576x576 with 2 Axes>"
      ]
     },
     "metadata": {
      "needs_background": "light"
     },
     "output_type": "display_data"
    }
   ],
   "source": [
    "plt.subplots(figsize=(8, 8))\n",
    "sns.heatmap(prep_data.corr(), annot=True, square=True)\n",
    "plt.show()"
   ]
  },
  {
   "cell_type": "markdown",
   "metadata": {},
   "source": [
    "from plot above we can see the features have almost ideal corelation"
   ]
  },
  {
   "cell_type": "markdown",
   "metadata": {},
   "source": [
    "Correlation with visualisation"
   ]
  },
  {
   "cell_type": "code",
   "execution_count": 50,
   "metadata": {},
   "outputs": [
    {
     "data": {
      "image/png": "[encoded data removed]",
      "text/plain": [
       "<Figure size 1080x720 with 4 Axes>"
      ]
     },
     "metadata": {
      "needs_background": "light"
     },
     "output_type": "display_data"
    }
   ],
   "source": [
    "fig, ax = plt.subplots(2,2,figsize=(15,10))\n",
    "#fig 1\n",
    "sns.scatterplot(df['total_vaccinations'], df['people_vaccinated'],ax=ax[0][0],color='#39ac73')\n",
    "ax[0,0].set_title('relation Between total_vaccinations and people_vaccinated ')\n",
    "#fig 2\n",
    "sns.scatterplot(df['daily_vaccinations_raw'], df['daily_vaccinations'], color='#3385ff',ax=ax[0][1])\n",
    "ax[0][1].set_title('relation Between daily_vaccinations_raw and daily_vaccinations ')\n",
    "#fig 3\n",
    "sns.scatterplot(df['total_vaccinations_per_hundred'], df['people_vaccinated_per_hundred'], color='#ff5c33',ax=ax[1][0])\n",
    "ax[1][0].set_title(' total_vaccinations_per_hundred and people_vaccinated_per_hundred ')\n",
    "#fig 4\n",
    "sns.scatterplot( df['daily_vaccinations'],df['daily_vaccinations_per_million'], color='#cccc00',ax=ax[1][1])\n",
    "ax[1][1].set_title(' daily_vaccinations and daily_vaccinations_per_million ')\n",
    "plt.show()"
   ]
  },
  {
   "cell_type": "markdown",
   "metadata": {},
   "source": [
    "Mann-whitney U Test"
   ]
  },
  {
   "cell_type": "markdown",
   "metadata": {},
   "source": [
    "- people_vaccinated and people_vaccinated_per_hundred \\\n",
    "h0 = people_vaccinated and people_vaccinated_per_hundred **correlates** with total_vaccinations and total_vaccinations_per_hundred. \\\n",
    "h1 = people_vaccinated and people_vaccinated_per_hundred **not correlates** with total_vaccinations and total_vaccinations_per_hundred."
   ]
  },
  {
   "cell_type": "code",
   "execution_count": 11,
   "metadata": {},
   "outputs": [
    {
     "name": "stdout",
     "output_type": "stream",
     "text": [
      "p= 8.370103780612713e-12\n",
      "stat=25016503.500\n",
      "Probably different distributions\n"
     ]
    }
   ],
   "source": [
    "data1 = prep_data.total_vaccinations\n",
    "data2 = prep_data.people_vaccinated\n",
    "stat, p = mannwhitneyu(data1, data2, alternative='two-sided')\n",
    "print('p=',p)\n",
    "print('stat=%.3f' % (stat))\n",
    "if p > 0.05:\n",
    "    print('Probably the same distribution')\n",
    "else:\n",
    "    print('Probably different distributions')"
   ]
  },
  {
   "cell_type": "code",
   "execution_count": 12,
   "metadata": {},
   "outputs": [
    {
     "name": "stdout",
     "output_type": "stream",
     "text": [
      "p= 5.279362851149261e-07\n",
      "stat=25480504.500\n",
      "Probably different distributions\n"
     ]
    }
   ],
   "source": [
    "data3 = prep_data.total_vaccinations_per_hundred\n",
    "data4 = prep_data.people_vaccinated_per_hundred\n",
    "stat2, p2 = mannwhitneyu(data3, data4, alternative='two-sided')\n",
    "print('p=',p2)\n",
    "print('stat=%.3f' % (stat2))\n",
    "if p2 > 0.05:\n",
    "    print('Probably the same distribution')\n",
    "else:\n",
    "    print('Probably different distributions')"
   ]
  },
  {
   "cell_type": "markdown",
   "metadata": {},
   "source": [
    "based on test above we can reject our null hypothesis, lets fill null with 0"
   ]
  },
  {
   "cell_type": "code",
   "execution_count": 13,
   "metadata": {},
   "outputs": [],
   "source": [
    "# diff = prep_data.total_vaccinations.mean() - prep_data.people_vaccinated.mean()\n",
    "# diff_hundred = prep_data.total_vaccinations_per_hundred.mean() - prep_data.people_vaccinated_per_hundred.mean()\n",
    "# print('diff ',diff,'| diff_hundred ',diff_hundred)\n",
    "\n",
    "# prep_data.people_vaccinated = prep_data.people_vaccinated.fillna(prep_data.total_vaccinations-diff)\n",
    "# prep_data.people_vaccinated_per_hundred = prep_data.people_fully_vaccinated_per_hundred.fillna(prep_data.total_vaccinations_per_hundred-diff_hundred)"
   ]
  },
  {
   "cell_type": "code",
   "execution_count": 14,
   "metadata": {},
   "outputs": [],
   "source": [
    "prep_data.people_vaccinated_per_hundred = prep_data.people_fully_vaccinated_per_hundred.fillna(0)\n",
    "prep_data.people_vaccinated = prep_data.people_vaccinated.fillna(0)\n"
   ]
  },
  {
   "cell_type": "code",
   "execution_count": 15,
   "metadata": {},
   "outputs": [
    {
     "data": {
      "text/plain": [
       "country                                   0\n",
       "iso_code                                  0\n",
       "date                                      0\n",
       "total_vaccinations                        0\n",
       "people_vaccinated                         0\n",
       "people_fully_vaccinated                2537\n",
       "daily_vaccinations_raw                 1158\n",
       "daily_vaccinations                      182\n",
       "total_vaccinations_per_hundred            0\n",
       "people_vaccinated_per_hundred             0\n",
       "people_fully_vaccinated_per_hundred    2537\n",
       "daily_vaccinations_per_million          182\n",
       "vaccines                                  0\n",
       "source_name                               0\n",
       "source_website                            0\n",
       "dtype: int64"
      ]
     },
     "execution_count": 15,
     "metadata": {},
     "output_type": "execute_result"
    }
   ],
   "source": [
    "# lets check\n",
    "prep_data.isnull().sum()"
   ]
  },
  {
   "cell_type": "markdown",
   "metadata": {},
   "source": [
    "- daily_vaccinations and daily_vaccinations_per_million \\\n",
    "h0 = daily_vaccinations and daily_vaccinations_per_million **correlates** with people_vaccinated and total_vaccinations_per_hundred. \\\n",
    "h1 = daily_vaccinations and daily_vaccinations_per_million **not correlates** with people_vaccinated and total_vaccinations_per_hundred."
   ]
  },
  {
   "cell_type": "code",
   "execution_count": 16,
   "metadata": {},
   "outputs": [
    {
     "name": "stdout",
     "output_type": "stream",
     "text": [
      "p= 0.0\n",
      "stat=15408191.500\n",
      "Probably different distributions\n"
     ]
    }
   ],
   "source": [
    "data5 = prep_data.daily_vaccinations\n",
    "data6 = prep_data.people_vaccinated\n",
    "stat3, p3 = mannwhitneyu(data5, data6)\n",
    "print('p=',p3)\n",
    "print('stat=%.3f' % (stat3))\n",
    "if p > 0.05:\n",
    "    print('Probably the same distribution')\n",
    "else:\n",
    "    print('Probably different distributions')"
   ]
  },
  {
   "cell_type": "code",
   "execution_count": 17,
   "metadata": {},
   "outputs": [
    {
     "name": "stdout",
     "output_type": "stream",
     "text": [
      "p= 0.0\n",
      "stat=338580.500\n",
      "Probably different distributions\n"
     ]
    }
   ],
   "source": [
    "data7 = prep_data.daily_vaccinations_per_million\n",
    "data8 = prep_data.people_vaccinated_per_hundred\n",
    "stat4, p4 = mannwhitneyu(data7, data8)\n",
    "print('p=',p4)\n",
    "print('stat=%.3f' % (stat4))\n",
    "if p > 0.05:\n",
    "    print('Probably the same distribution')\n",
    "else:\n",
    "    print('Probably different distributions')"
   ]
  },
  {
   "cell_type": "markdown",
   "metadata": {},
   "source": [
    "based on second test above we can reject our null hypothesis, lets fill null with 0"
   ]
  },
  {
   "cell_type": "code",
   "execution_count": 18,
   "metadata": {},
   "outputs": [],
   "source": [
    "prep_data.daily_vaccinations = prep_data.daily_vaccinations.fillna(0)\n",
    "prep_data.daily_vaccinations_per_million = prep_data.daily_vaccinations_per_million.fillna(0)"
   ]
  },
  {
   "cell_type": "code",
   "execution_count": 19,
   "metadata": {},
   "outputs": [
    {
     "data": {
      "text/plain": [
       "country                                   0\n",
       "iso_code                                  0\n",
       "date                                      0\n",
       "total_vaccinations                        0\n",
       "people_vaccinated                         0\n",
       "people_fully_vaccinated                2537\n",
       "daily_vaccinations_raw                 1158\n",
       "daily_vaccinations                        0\n",
       "total_vaccinations_per_hundred            0\n",
       "people_vaccinated_per_hundred             0\n",
       "people_fully_vaccinated_per_hundred    2537\n",
       "daily_vaccinations_per_million            0\n",
       "vaccines                                  0\n",
       "source_name                               0\n",
       "source_website                            0\n",
       "dtype: int64"
      ]
     },
     "execution_count": 19,
     "metadata": {},
     "output_type": "execute_result"
    }
   ],
   "source": [
    "# lets check\n",
    "prep_data.isnull().sum()"
   ]
  },
  {
   "cell_type": "markdown",
   "metadata": {},
   "source": [
    "- people_fully_vaccinated and people_fully_vaccinated_per_hundred \\\n",
    "h0 = people_fully_vaccinated and people_fully_vaccinated_per_hundred **correlates** with total_vaccinations and total_vaccinations_per_hundred. \\\n",
    "h1 = people_fully_vaccinated and people_fully_vaccinated_per_hundred **not correlates** with total_vaccinations and total_vaccinations_per_hundred."
   ]
  },
  {
   "cell_type": "code",
   "execution_count": 20,
   "metadata": {},
   "outputs": [
    {
     "name": "stdout",
     "output_type": "stream",
     "text": [
      "p= 5.120668189218756e-111\n",
      "stat=21050167.000\n",
      "Probably different distributions\n"
     ]
    }
   ],
   "source": [
    "data9 = prep_data.people_fully_vaccinated\n",
    "data10 = prep_data.total_vaccinations\n",
    "stat5, p5 = mannwhitneyu(data9, data10)\n",
    "print('p=',p5)\n",
    "print('stat=%.3f' % (stat5))\n",
    "if p > 0.05:\n",
    "    print('Probably the same distribution')\n",
    "else:\n",
    "    print('Probably different distributions')"
   ]
  },
  {
   "cell_type": "code",
   "execution_count": 21,
   "metadata": {},
   "outputs": [
    {
     "name": "stdout",
     "output_type": "stream",
     "text": [
      "p= 8.686704644163495e-196\n",
      "stat=19141836.000\n",
      "Probably different distributions\n"
     ]
    }
   ],
   "source": [
    "data11 = prep_data.people_fully_vaccinated_per_hundred\n",
    "data12 = prep_data.total_vaccinations_per_hundred\n",
    "stat6, p6 = mannwhitneyu(data10, data11)\n",
    "print('p=',p6)\n",
    "print('stat=%.3f' % (stat6))\n",
    "if p > 0.05:\n",
    "    print('Probably the same distribution')\n",
    "else:\n",
    "    print('Probably different distributions')"
   ]
  },
  {
   "cell_type": "markdown",
   "metadata": {},
   "source": [
    "again, based on third test above we can reject our null hypothesis, lets fill null with 0"
   ]
  },
  {
   "cell_type": "code",
   "execution_count": 22,
   "metadata": {},
   "outputs": [],
   "source": [
    "prep_data.people_fully_vaccinated = prep_data.people_fully_vaccinated.fillna(0)\n",
    "prep_data.people_fully_vaccinated_per_hundred = prep_data.people_fully_vaccinated_per_hundred.fillna(0)"
   ]
  },
  {
   "cell_type": "code",
   "execution_count": 23,
   "metadata": {},
   "outputs": [
    {
     "data": {
      "text/plain": [
       "country                                   0\n",
       "iso_code                                  0\n",
       "date                                      0\n",
       "total_vaccinations                        0\n",
       "people_vaccinated                         0\n",
       "people_fully_vaccinated                   0\n",
       "daily_vaccinations_raw                 1158\n",
       "daily_vaccinations                        0\n",
       "total_vaccinations_per_hundred            0\n",
       "people_vaccinated_per_hundred             0\n",
       "people_fully_vaccinated_per_hundred       0\n",
       "daily_vaccinations_per_million            0\n",
       "vaccines                                  0\n",
       "source_name                               0\n",
       "source_website                            0\n",
       "dtype: int64"
      ]
     },
     "execution_count": 23,
     "metadata": {},
     "output_type": "execute_result"
    }
   ],
   "source": [
    "# lets check\n",
    "prep_data.isnull().sum()"
   ]
  },
  {
   "cell_type": "markdown",
   "metadata": {},
   "source": [
    "- daily_vaccinations_raw\\\n",
    "h0 = daily_vaccinations_raw **correlates** with daily_vaccinations. \\\n",
    "h1 = daily_vaccinations_raw **not correlates** with daily_vaccinations. \\\n"
   ]
  },
  {
   "cell_type": "code",
   "execution_count": 24,
   "metadata": {},
   "outputs": [
    {
     "name": "stdout",
     "output_type": "stream",
     "text": [
      "p= 3.56132066004629e-100\n",
      "stat=21342352.500\n",
      "Probably different distributions\n"
     ]
    }
   ],
   "source": [
    "data13 = prep_data.daily_vaccinations_raw\n",
    "data14 = prep_data.daily_vaccinations\n",
    "stat7, p7 = mannwhitneyu(data13, data14)\n",
    "print('p=',p7)\n",
    "print('stat=%.3f' % (stat7))\n",
    "if p > 0.05:\n",
    "    print('Probably the same distribution')\n",
    "else:\n",
    "    print('Probably different distributions')"
   ]
  },
  {
   "cell_type": "markdown",
   "metadata": {},
   "source": [
    "based on fourth test above we can reject our null hypothesis, lets fill null with 0"
   ]
  },
  {
   "cell_type": "code",
   "execution_count": 25,
   "metadata": {},
   "outputs": [],
   "source": [
    "prep_data.daily_vaccinations_raw = prep_data.daily_vaccinations_raw.fillna(0)"
   ]
  },
  {
   "cell_type": "code",
   "execution_count": 26,
   "metadata": {},
   "outputs": [
    {
     "data": {
      "text/plain": [
       "country                                0\n",
       "iso_code                               0\n",
       "date                                   0\n",
       "total_vaccinations                     0\n",
       "people_vaccinated                      0\n",
       "people_fully_vaccinated                0\n",
       "daily_vaccinations_raw                 0\n",
       "daily_vaccinations                     0\n",
       "total_vaccinations_per_hundred         0\n",
       "people_vaccinated_per_hundred          0\n",
       "people_fully_vaccinated_per_hundred    0\n",
       "daily_vaccinations_per_million         0\n",
       "vaccines                               0\n",
       "source_name                            0\n",
       "source_website                         0\n",
       "dtype: int64"
      ]
     },
     "execution_count": 26,
     "metadata": {},
     "output_type": "execute_result"
    }
   ],
   "source": [
    "# lets check\n",
    "prep_data.isnull().sum()"
   ]
  },
  {
   "cell_type": "code",
   "execution_count": null,
   "metadata": {},
   "outputs": [],
   "source": []
  },
  {
   "cell_type": "markdown",
   "metadata": {},
   "source": [
    "### Data Visualization\n",
    "question:\n",
    "1. What is most vaccine being used? \n",
    "2. Amount of vaccinated people by Countries"
   ]
  },
  {
   "cell_type": "code",
   "execution_count": 27,
   "metadata": {},
   "outputs": [
    {
     "data": {
      "image/png": "[encoded data removed]",
      "text/plain": [
       "<Figure size 720x432 with 1 Axes>"
      ]
     },
     "metadata": {
      "needs_background": "light"
     },
     "output_type": "display_data"
    }
   ],
   "source": [
    "df3 = prep_data[['country','vaccines']]\n",
    "df3 = df3.drop_duplicates()\n",
    "df4 = df3['vaccines'].value_counts()\n",
    "df4\n",
    "\n",
    "# df1.reset_index()\n",
    "df4.plot(kind='bar', figsize=(10, 6))\n",
    "plt.title('Types of vaccine used in Country') # add a title to the area plot\n",
    "plt.ylabel('Number of Country') # add y-label\n",
    "plt.xlabel('Type') # add x-label\n",
    "\n",
    "plt.show()"
   ]
  },
  {
   "cell_type": "code",
   "execution_count": 28,
   "metadata": {},
   "outputs": [
    {
     "data": {
      "text/html": [
       "<div>\n",
       "<style scoped>\n",
       "    .dataframe tbody tr th:only-of-type {\n",
       "        vertical-align: middle;\n",
       "    }\n",
       "\n",
       "    .dataframe tbody tr th {\n",
       "        vertical-align: top;\n",
       "    }\n",
       "\n",
       "    .dataframe thead th {\n",
       "        text-align: right;\n",
       "    }\n",
       "</style>\n",
       "<table border=\"1\" class=\"dataframe\">\n",
       "  <thead>\n",
       "    <tr style=\"text-align: right;\">\n",
       "      <th></th>\n",
       "      <th>country</th>\n",
       "      <th>iso_code</th>\n",
       "      <th>date</th>\n",
       "      <th>total_vaccinations</th>\n",
       "      <th>people_vaccinated</th>\n",
       "      <th>people_fully_vaccinated</th>\n",
       "      <th>daily_vaccinations_raw</th>\n",
       "      <th>daily_vaccinations</th>\n",
       "    </tr>\n",
       "  </thead>\n",
       "  <tbody>\n",
       "    <tr>\n",
       "      <th>0</th>\n",
       "      <td>Afghanistan</td>\n",
       "      <td>AFG</td>\n",
       "      <td>2021-02-22</td>\n",
       "      <td>0.0</td>\n",
       "      <td>0.0</td>\n",
       "      <td>0.0</td>\n",
       "      <td>0.0</td>\n",
       "      <td>0.0</td>\n",
       "    </tr>\n",
       "    <tr>\n",
       "      <th>6</th>\n",
       "      <td>Afghanistan</td>\n",
       "      <td>AFG</td>\n",
       "      <td>2021-02-28</td>\n",
       "      <td>8200.0</td>\n",
       "      <td>8200.0</td>\n",
       "      <td>0.0</td>\n",
       "      <td>0.0</td>\n",
       "      <td>1367.0</td>\n",
       "    </tr>\n",
       "    <tr>\n",
       "      <th>22</th>\n",
       "      <td>Afghanistan</td>\n",
       "      <td>AFG</td>\n",
       "      <td>2021-03-16</td>\n",
       "      <td>54000.0</td>\n",
       "      <td>54000.0</td>\n",
       "      <td>0.0</td>\n",
       "      <td>0.0</td>\n",
       "      <td>2862.0</td>\n",
       "    </tr>\n",
       "    <tr>\n",
       "      <th>44</th>\n",
       "      <td>Afghanistan</td>\n",
       "      <td>AFG</td>\n",
       "      <td>2021-04-07</td>\n",
       "      <td>120000.0</td>\n",
       "      <td>120000.0</td>\n",
       "      <td>0.0</td>\n",
       "      <td>0.0</td>\n",
       "      <td>3000.0</td>\n",
       "    </tr>\n",
       "    <tr>\n",
       "      <th>45</th>\n",
       "      <td>Albania</td>\n",
       "      <td>ALB</td>\n",
       "      <td>2021-01-10</td>\n",
       "      <td>0.0</td>\n",
       "      <td>0.0</td>\n",
       "      <td>0.0</td>\n",
       "      <td>0.0</td>\n",
       "      <td>0.0</td>\n",
       "    </tr>\n",
       "    <tr>\n",
       "      <th>...</th>\n",
       "      <td>...</td>\n",
       "      <td>...</td>\n",
       "      <td>...</td>\n",
       "      <td>...</td>\n",
       "      <td>...</td>\n",
       "      <td>...</td>\n",
       "      <td>...</td>\n",
       "      <td>...</td>\n",
       "    </tr>\n",
       "    <tr>\n",
       "      <th>12151</th>\n",
       "      <td>Zimbabwe</td>\n",
       "      <td>ZWE</td>\n",
       "      <td>2021-04-12</td>\n",
       "      <td>234579.0</td>\n",
       "      <td>205275.0</td>\n",
       "      <td>29304.0</td>\n",
       "      <td>11087.0</td>\n",
       "      <td>12724.0</td>\n",
       "    </tr>\n",
       "    <tr>\n",
       "      <th>12152</th>\n",
       "      <td>Zimbabwe</td>\n",
       "      <td>ZWE</td>\n",
       "      <td>2021-04-13</td>\n",
       "      <td>248355.0</td>\n",
       "      <td>218516.0</td>\n",
       "      <td>29839.0</td>\n",
       "      <td>13776.0</td>\n",
       "      <td>12246.0</td>\n",
       "    </tr>\n",
       "    <tr>\n",
       "      <th>12153</th>\n",
       "      <td>Zimbabwe</td>\n",
       "      <td>ZWE</td>\n",
       "      <td>2021-04-14</td>\n",
       "      <td>262128.0</td>\n",
       "      <td>231632.0</td>\n",
       "      <td>30496.0</td>\n",
       "      <td>13773.0</td>\n",
       "      <td>11816.0</td>\n",
       "    </tr>\n",
       "    <tr>\n",
       "      <th>12154</th>\n",
       "      <td>Zimbabwe</td>\n",
       "      <td>ZWE</td>\n",
       "      <td>2021-04-15</td>\n",
       "      <td>285881.0</td>\n",
       "      <td>252932.0</td>\n",
       "      <td>32949.0</td>\n",
       "      <td>23753.0</td>\n",
       "      <td>13172.0</td>\n",
       "    </tr>\n",
       "    <tr>\n",
       "      <th>12155</th>\n",
       "      <td>Zimbabwe</td>\n",
       "      <td>ZWE</td>\n",
       "      <td>2021-04-16</td>\n",
       "      <td>304701.0</td>\n",
       "      <td>269732.0</td>\n",
       "      <td>34969.0</td>\n",
       "      <td>18820.0</td>\n",
       "      <td>14071.0</td>\n",
       "    </tr>\n",
       "  </tbody>\n",
       "</table>\n",
       "<p>7316 rows × 8 columns</p>\n",
       "</div>"
      ],
      "text/plain": [
       "           country iso_code        date  total_vaccinations  \\\n",
       "0      Afghanistan      AFG  2021-02-22                 0.0   \n",
       "6      Afghanistan      AFG  2021-02-28              8200.0   \n",
       "22     Afghanistan      AFG  2021-03-16             54000.0   \n",
       "44     Afghanistan      AFG  2021-04-07            120000.0   \n",
       "45         Albania      ALB  2021-01-10                 0.0   \n",
       "...            ...      ...         ...                 ...   \n",
       "12151     Zimbabwe      ZWE  2021-04-12            234579.0   \n",
       "12152     Zimbabwe      ZWE  2021-04-13            248355.0   \n",
       "12153     Zimbabwe      ZWE  2021-04-14            262128.0   \n",
       "12154     Zimbabwe      ZWE  2021-04-15            285881.0   \n",
       "12155     Zimbabwe      ZWE  2021-04-16            304701.0   \n",
       "\n",
       "       people_vaccinated  people_fully_vaccinated  daily_vaccinations_raw  \\\n",
       "0                    0.0                      0.0                     0.0   \n",
       "6                 8200.0                      0.0                     0.0   \n",
       "22               54000.0                      0.0                     0.0   \n",
       "44              120000.0                      0.0                     0.0   \n",
       "45                   0.0                      0.0                     0.0   \n",
       "...                  ...                      ...                     ...   \n",
       "12151           205275.0                  29304.0                 11087.0   \n",
       "12152           218516.0                  29839.0                 13776.0   \n",
       "12153           231632.0                  30496.0                 13773.0   \n",
       "12154           252932.0                  32949.0                 23753.0   \n",
       "12155           269732.0                  34969.0                 18820.0   \n",
       "\n",
       "       daily_vaccinations  \n",
       "0                     0.0  \n",
       "6                  1367.0  \n",
       "22                 2862.0  \n",
       "44                 3000.0  \n",
       "45                    0.0  \n",
       "...                   ...  \n",
       "12151             12724.0  \n",
       "12152             12246.0  \n",
       "12153             11816.0  \n",
       "12154             13172.0  \n",
       "12155             14071.0  \n",
       "\n",
       "[7316 rows x 8 columns]"
      ]
     },
     "execution_count": 28,
     "metadata": {},
     "output_type": "execute_result"
    }
   ],
   "source": [
    "df5 = prep_data.iloc[:, 0:8]\n",
    "df5"
   ]
  },
  {
   "cell_type": "code",
   "execution_count": 29,
   "metadata": {},
   "outputs": [
    {
     "data": {
      "text/html": [
       "<div>\n",
       "<style scoped>\n",
       "    .dataframe tbody tr th:only-of-type {\n",
       "        vertical-align: middle;\n",
       "    }\n",
       "\n",
       "    .dataframe tbody tr th {\n",
       "        vertical-align: top;\n",
       "    }\n",
       "\n",
       "    .dataframe thead th {\n",
       "        text-align: right;\n",
       "    }\n",
       "</style>\n",
       "<table border=\"1\" class=\"dataframe\">\n",
       "  <thead>\n",
       "    <tr style=\"text-align: right;\">\n",
       "      <th></th>\n",
       "      <th>country</th>\n",
       "      <th>iso_code</th>\n",
       "      <th>date</th>\n",
       "      <th>total_vaccinations</th>\n",
       "      <th>people_vaccinated</th>\n",
       "      <th>people_fully_vaccinated</th>\n",
       "      <th>daily_vaccinations_raw</th>\n",
       "      <th>daily_vaccinations</th>\n",
       "      <th>total_vaccinations_per_hundred</th>\n",
       "      <th>people_vaccinated_per_hundred</th>\n",
       "      <th>people_fully_vaccinated_per_hundred</th>\n",
       "      <th>daily_vaccinations_per_million</th>\n",
       "      <th>vaccines</th>\n",
       "      <th>source_name</th>\n",
       "      <th>source_website</th>\n",
       "    </tr>\n",
       "  </thead>\n",
       "  <tbody>\n",
       "    <tr>\n",
       "      <th>0</th>\n",
       "      <td>Afghanistan</td>\n",
       "      <td>AFG</td>\n",
       "      <td>2021-02-22</td>\n",
       "      <td>0.0</td>\n",
       "      <td>0.0</td>\n",
       "      <td>0.0</td>\n",
       "      <td>0.0</td>\n",
       "      <td>0.0</td>\n",
       "      <td>0.00</td>\n",
       "      <td>0.0</td>\n",
       "      <td>0.0</td>\n",
       "      <td>0.0</td>\n",
       "      <td>Oxford/AstraZeneca</td>\n",
       "      <td>Government of Afghanistan</td>\n",
       "      <td>http://www.xinhuanet.com/english/asiapacific/2...</td>\n",
       "    </tr>\n",
       "    <tr>\n",
       "      <th>6</th>\n",
       "      <td>Afghanistan</td>\n",
       "      <td>AFG</td>\n",
       "      <td>2021-02-28</td>\n",
       "      <td>8200.0</td>\n",
       "      <td>8200.0</td>\n",
       "      <td>0.0</td>\n",
       "      <td>0.0</td>\n",
       "      <td>1367.0</td>\n",
       "      <td>0.02</td>\n",
       "      <td>0.0</td>\n",
       "      <td>0.0</td>\n",
       "      <td>35.0</td>\n",
       "      <td>Oxford/AstraZeneca</td>\n",
       "      <td>Government of Afghanistan</td>\n",
       "      <td>http://www.xinhuanet.com/english/asiapacific/2...</td>\n",
       "    </tr>\n",
       "    <tr>\n",
       "      <th>22</th>\n",
       "      <td>Afghanistan</td>\n",
       "      <td>AFG</td>\n",
       "      <td>2021-03-16</td>\n",
       "      <td>54000.0</td>\n",
       "      <td>54000.0</td>\n",
       "      <td>0.0</td>\n",
       "      <td>0.0</td>\n",
       "      <td>2862.0</td>\n",
       "      <td>0.14</td>\n",
       "      <td>0.0</td>\n",
       "      <td>0.0</td>\n",
       "      <td>74.0</td>\n",
       "      <td>Oxford/AstraZeneca</td>\n",
       "      <td>Government of Afghanistan</td>\n",
       "      <td>http://www.xinhuanet.com/english/asiapacific/2...</td>\n",
       "    </tr>\n",
       "    <tr>\n",
       "      <th>44</th>\n",
       "      <td>Afghanistan</td>\n",
       "      <td>AFG</td>\n",
       "      <td>2021-04-07</td>\n",
       "      <td>120000.0</td>\n",
       "      <td>120000.0</td>\n",
       "      <td>0.0</td>\n",
       "      <td>0.0</td>\n",
       "      <td>3000.0</td>\n",
       "      <td>0.31</td>\n",
       "      <td>0.0</td>\n",
       "      <td>0.0</td>\n",
       "      <td>77.0</td>\n",
       "      <td>Oxford/AstraZeneca</td>\n",
       "      <td>Government of Afghanistan</td>\n",
       "      <td>http://www.xinhuanet.com/english/asiapacific/2...</td>\n",
       "    </tr>\n",
       "    <tr>\n",
       "      <th>45</th>\n",
       "      <td>Albania</td>\n",
       "      <td>ALB</td>\n",
       "      <td>2021-01-10</td>\n",
       "      <td>0.0</td>\n",
       "      <td>0.0</td>\n",
       "      <td>0.0</td>\n",
       "      <td>0.0</td>\n",
       "      <td>0.0</td>\n",
       "      <td>0.00</td>\n",
       "      <td>0.0</td>\n",
       "      <td>0.0</td>\n",
       "      <td>0.0</td>\n",
       "      <td>Pfizer/BioNTech, Sinovac</td>\n",
       "      <td>Ministry of Health</td>\n",
       "      <td>https://twitter.com/gmanastirliu/status/138313...</td>\n",
       "    </tr>\n",
       "  </tbody>\n",
       "</table>\n",
       "</div>"
      ],
      "text/plain": [
       "        country iso_code        date  total_vaccinations  people_vaccinated  \\\n",
       "0   Afghanistan      AFG  2021-02-22                 0.0                0.0   \n",
       "6   Afghanistan      AFG  2021-02-28              8200.0             8200.0   \n",
       "22  Afghanistan      AFG  2021-03-16             54000.0            54000.0   \n",
       "44  Afghanistan      AFG  2021-04-07            120000.0           120000.0   \n",
       "45      Albania      ALB  2021-01-10                 0.0                0.0   \n",
       "\n",
       "    people_fully_vaccinated  daily_vaccinations_raw  daily_vaccinations  \\\n",
       "0                       0.0                     0.0                 0.0   \n",
       "6                       0.0                     0.0              1367.0   \n",
       "22                      0.0                     0.0              2862.0   \n",
       "44                      0.0                     0.0              3000.0   \n",
       "45                      0.0                     0.0                 0.0   \n",
       "\n",
       "    total_vaccinations_per_hundred  people_vaccinated_per_hundred  \\\n",
       "0                             0.00                            0.0   \n",
       "6                             0.02                            0.0   \n",
       "22                            0.14                            0.0   \n",
       "44                            0.31                            0.0   \n",
       "45                            0.00                            0.0   \n",
       "\n",
       "    people_fully_vaccinated_per_hundred  daily_vaccinations_per_million  \\\n",
       "0                                   0.0                             0.0   \n",
       "6                                   0.0                            35.0   \n",
       "22                                  0.0                            74.0   \n",
       "44                                  0.0                            77.0   \n",
       "45                                  0.0                             0.0   \n",
       "\n",
       "                    vaccines                source_name  \\\n",
       "0         Oxford/AstraZeneca  Government of Afghanistan   \n",
       "6         Oxford/AstraZeneca  Government of Afghanistan   \n",
       "22        Oxford/AstraZeneca  Government of Afghanistan   \n",
       "44        Oxford/AstraZeneca  Government of Afghanistan   \n",
       "45  Pfizer/BioNTech, Sinovac         Ministry of Health   \n",
       "\n",
       "                                       source_website  \n",
       "0   http://www.xinhuanet.com/english/asiapacific/2...  \n",
       "6   http://www.xinhuanet.com/english/asiapacific/2...  \n",
       "22  http://www.xinhuanet.com/english/asiapacific/2...  \n",
       "44  http://www.xinhuanet.com/english/asiapacific/2...  \n",
       "45  https://twitter.com/gmanastirliu/status/138313...  "
      ]
     },
     "execution_count": 29,
     "metadata": {},
     "output_type": "execute_result"
    }
   ],
   "source": [
    "prep_data.head()"
   ]
  },
  {
   "cell_type": "code",
   "execution_count": 30,
   "metadata": {},
   "outputs": [],
   "source": [
    "dt6 = prep_data\n",
    "#now we have added one more columns that is difference of date\n",
    "dt6['date_diff']=dt6['total_vaccinations']\n",
    "count=0\n",
    "for index, row in dt6.iterrows():\n",
    "    row['date_diff']=count\n",
    "    count+=1"
   ]
  },
  {
   "cell_type": "code",
   "execution_count": 36,
   "metadata": {},
   "outputs": [
    {
     "data": {
      "text/html": [
       "<div>\n",
       "<style scoped>\n",
       "    .dataframe tbody tr th:only-of-type {\n",
       "        vertical-align: middle;\n",
       "    }\n",
       "\n",
       "    .dataframe tbody tr th {\n",
       "        vertical-align: top;\n",
       "    }\n",
       "\n",
       "    .dataframe thead th {\n",
       "        text-align: right;\n",
       "    }\n",
       "</style>\n",
       "<table border=\"1\" class=\"dataframe\">\n",
       "  <thead>\n",
       "    <tr style=\"text-align: right;\">\n",
       "      <th></th>\n",
       "      <th>country</th>\n",
       "      <th>iso_code</th>\n",
       "      <th>date</th>\n",
       "      <th>total_vaccinations</th>\n",
       "      <th>people_vaccinated</th>\n",
       "      <th>people_fully_vaccinated</th>\n",
       "      <th>daily_vaccinations_raw</th>\n",
       "      <th>daily_vaccinations</th>\n",
       "      <th>total_vaccinations_per_hundred</th>\n",
       "      <th>people_vaccinated_per_hundred</th>\n",
       "      <th>people_fully_vaccinated_per_hundred</th>\n",
       "      <th>daily_vaccinations_per_million</th>\n",
       "      <th>vaccines</th>\n",
       "      <th>source_name</th>\n",
       "      <th>source_website</th>\n",
       "      <th>date_diff</th>\n",
       "    </tr>\n",
       "  </thead>\n",
       "  <tbody>\n",
       "    <tr>\n",
       "      <th>0</th>\n",
       "      <td>Afghanistan</td>\n",
       "      <td>AFG</td>\n",
       "      <td>2021-02-22</td>\n",
       "      <td>0.0</td>\n",
       "      <td>0.0</td>\n",
       "      <td>0.0</td>\n",
       "      <td>0.0</td>\n",
       "      <td>0.0</td>\n",
       "      <td>0.00</td>\n",
       "      <td>0.00</td>\n",
       "      <td>0.00</td>\n",
       "      <td>0.0</td>\n",
       "      <td>Oxford/AstraZeneca</td>\n",
       "      <td>Government of Afghanistan</td>\n",
       "      <td>http://www.xinhuanet.com/english/asiapacific/2...</td>\n",
       "      <td>0.0</td>\n",
       "    </tr>\n",
       "    <tr>\n",
       "      <th>6</th>\n",
       "      <td>Afghanistan</td>\n",
       "      <td>AFG</td>\n",
       "      <td>2021-02-28</td>\n",
       "      <td>8200.0</td>\n",
       "      <td>8200.0</td>\n",
       "      <td>0.0</td>\n",
       "      <td>0.0</td>\n",
       "      <td>1367.0</td>\n",
       "      <td>0.02</td>\n",
       "      <td>0.00</td>\n",
       "      <td>0.00</td>\n",
       "      <td>35.0</td>\n",
       "      <td>Oxford/AstraZeneca</td>\n",
       "      <td>Government of Afghanistan</td>\n",
       "      <td>http://www.xinhuanet.com/english/asiapacific/2...</td>\n",
       "      <td>8200.0</td>\n",
       "    </tr>\n",
       "    <tr>\n",
       "      <th>22</th>\n",
       "      <td>Afghanistan</td>\n",
       "      <td>AFG</td>\n",
       "      <td>2021-03-16</td>\n",
       "      <td>54000.0</td>\n",
       "      <td>54000.0</td>\n",
       "      <td>0.0</td>\n",
       "      <td>0.0</td>\n",
       "      <td>2862.0</td>\n",
       "      <td>0.14</td>\n",
       "      <td>0.00</td>\n",
       "      <td>0.00</td>\n",
       "      <td>74.0</td>\n",
       "      <td>Oxford/AstraZeneca</td>\n",
       "      <td>Government of Afghanistan</td>\n",
       "      <td>http://www.xinhuanet.com/english/asiapacific/2...</td>\n",
       "      <td>54000.0</td>\n",
       "    </tr>\n",
       "    <tr>\n",
       "      <th>44</th>\n",
       "      <td>Afghanistan</td>\n",
       "      <td>AFG</td>\n",
       "      <td>2021-04-07</td>\n",
       "      <td>120000.0</td>\n",
       "      <td>120000.0</td>\n",
       "      <td>0.0</td>\n",
       "      <td>0.0</td>\n",
       "      <td>3000.0</td>\n",
       "      <td>0.31</td>\n",
       "      <td>0.00</td>\n",
       "      <td>0.00</td>\n",
       "      <td>77.0</td>\n",
       "      <td>Oxford/AstraZeneca</td>\n",
       "      <td>Government of Afghanistan</td>\n",
       "      <td>http://www.xinhuanet.com/english/asiapacific/2...</td>\n",
       "      <td>120000.0</td>\n",
       "    </tr>\n",
       "    <tr>\n",
       "      <th>45</th>\n",
       "      <td>Albania</td>\n",
       "      <td>ALB</td>\n",
       "      <td>2021-01-10</td>\n",
       "      <td>0.0</td>\n",
       "      <td>0.0</td>\n",
       "      <td>0.0</td>\n",
       "      <td>0.0</td>\n",
       "      <td>0.0</td>\n",
       "      <td>0.00</td>\n",
       "      <td>0.00</td>\n",
       "      <td>0.00</td>\n",
       "      <td>0.0</td>\n",
       "      <td>Pfizer/BioNTech, Sinovac</td>\n",
       "      <td>Ministry of Health</td>\n",
       "      <td>https://twitter.com/gmanastirliu/status/138313...</td>\n",
       "      <td>0.0</td>\n",
       "    </tr>\n",
       "    <tr>\n",
       "      <th>...</th>\n",
       "      <td>...</td>\n",
       "      <td>...</td>\n",
       "      <td>...</td>\n",
       "      <td>...</td>\n",
       "      <td>...</td>\n",
       "      <td>...</td>\n",
       "      <td>...</td>\n",
       "      <td>...</td>\n",
       "      <td>...</td>\n",
       "      <td>...</td>\n",
       "      <td>...</td>\n",
       "      <td>...</td>\n",
       "      <td>...</td>\n",
       "      <td>...</td>\n",
       "      <td>...</td>\n",
       "      <td>...</td>\n",
       "    </tr>\n",
       "    <tr>\n",
       "      <th>12151</th>\n",
       "      <td>Zimbabwe</td>\n",
       "      <td>ZWE</td>\n",
       "      <td>2021-04-12</td>\n",
       "      <td>234579.0</td>\n",
       "      <td>205275.0</td>\n",
       "      <td>29304.0</td>\n",
       "      <td>11087.0</td>\n",
       "      <td>12724.0</td>\n",
       "      <td>1.58</td>\n",
       "      <td>0.20</td>\n",
       "      <td>0.20</td>\n",
       "      <td>856.0</td>\n",
       "      <td>Sinopharm/Beijing</td>\n",
       "      <td>Ministry of Health</td>\n",
       "      <td>https://twitter.com/MoHCCZim/status/1383174384...</td>\n",
       "      <td>234579.0</td>\n",
       "    </tr>\n",
       "    <tr>\n",
       "      <th>12152</th>\n",
       "      <td>Zimbabwe</td>\n",
       "      <td>ZWE</td>\n",
       "      <td>2021-04-13</td>\n",
       "      <td>248355.0</td>\n",
       "      <td>218516.0</td>\n",
       "      <td>29839.0</td>\n",
       "      <td>13776.0</td>\n",
       "      <td>12246.0</td>\n",
       "      <td>1.67</td>\n",
       "      <td>0.20</td>\n",
       "      <td>0.20</td>\n",
       "      <td>824.0</td>\n",
       "      <td>Sinopharm/Beijing</td>\n",
       "      <td>Ministry of Health</td>\n",
       "      <td>https://twitter.com/MoHCCZim/status/1383174384...</td>\n",
       "      <td>248355.0</td>\n",
       "    </tr>\n",
       "    <tr>\n",
       "      <th>12153</th>\n",
       "      <td>Zimbabwe</td>\n",
       "      <td>ZWE</td>\n",
       "      <td>2021-04-14</td>\n",
       "      <td>262128.0</td>\n",
       "      <td>231632.0</td>\n",
       "      <td>30496.0</td>\n",
       "      <td>13773.0</td>\n",
       "      <td>11816.0</td>\n",
       "      <td>1.76</td>\n",
       "      <td>0.21</td>\n",
       "      <td>0.21</td>\n",
       "      <td>795.0</td>\n",
       "      <td>Sinopharm/Beijing</td>\n",
       "      <td>Ministry of Health</td>\n",
       "      <td>https://twitter.com/MoHCCZim/status/1383174384...</td>\n",
       "      <td>262128.0</td>\n",
       "    </tr>\n",
       "    <tr>\n",
       "      <th>12154</th>\n",
       "      <td>Zimbabwe</td>\n",
       "      <td>ZWE</td>\n",
       "      <td>2021-04-15</td>\n",
       "      <td>285881.0</td>\n",
       "      <td>252932.0</td>\n",
       "      <td>32949.0</td>\n",
       "      <td>23753.0</td>\n",
       "      <td>13172.0</td>\n",
       "      <td>1.92</td>\n",
       "      <td>0.22</td>\n",
       "      <td>0.22</td>\n",
       "      <td>886.0</td>\n",
       "      <td>Sinopharm/Beijing</td>\n",
       "      <td>Ministry of Health</td>\n",
       "      <td>https://twitter.com/MoHCCZim/status/1383174384...</td>\n",
       "      <td>285881.0</td>\n",
       "    </tr>\n",
       "    <tr>\n",
       "      <th>12155</th>\n",
       "      <td>Zimbabwe</td>\n",
       "      <td>ZWE</td>\n",
       "      <td>2021-04-16</td>\n",
       "      <td>304701.0</td>\n",
       "      <td>269732.0</td>\n",
       "      <td>34969.0</td>\n",
       "      <td>18820.0</td>\n",
       "      <td>14071.0</td>\n",
       "      <td>2.05</td>\n",
       "      <td>0.24</td>\n",
       "      <td>0.24</td>\n",
       "      <td>947.0</td>\n",
       "      <td>Sinopharm/Beijing</td>\n",
       "      <td>Ministry of Health</td>\n",
       "      <td>https://twitter.com/MoHCCZim/status/1383174384...</td>\n",
       "      <td>304701.0</td>\n",
       "    </tr>\n",
       "  </tbody>\n",
       "</table>\n",
       "<p>7316 rows × 16 columns</p>\n",
       "</div>"
      ],
      "text/plain": [
       "           country iso_code        date  total_vaccinations  \\\n",
       "0      Afghanistan      AFG  2021-02-22                 0.0   \n",
       "6      Afghanistan      AFG  2021-02-28              8200.0   \n",
       "22     Afghanistan      AFG  2021-03-16             54000.0   \n",
       "44     Afghanistan      AFG  2021-04-07            120000.0   \n",
       "45         Albania      ALB  2021-01-10                 0.0   \n",
       "...            ...      ...         ...                 ...   \n",
       "12151     Zimbabwe      ZWE  2021-04-12            234579.0   \n",
       "12152     Zimbabwe      ZWE  2021-04-13            248355.0   \n",
       "12153     Zimbabwe      ZWE  2021-04-14            262128.0   \n",
       "12154     Zimbabwe      ZWE  2021-04-15            285881.0   \n",
       "12155     Zimbabwe      ZWE  2021-04-16            304701.0   \n",
       "\n",
       "       people_vaccinated  people_fully_vaccinated  daily_vaccinations_raw  \\\n",
       "0                    0.0                      0.0                     0.0   \n",
       "6                 8200.0                      0.0                     0.0   \n",
       "22               54000.0                      0.0                     0.0   \n",
       "44              120000.0                      0.0                     0.0   \n",
       "45                   0.0                      0.0                     0.0   \n",
       "...                  ...                      ...                     ...   \n",
       "12151           205275.0                  29304.0                 11087.0   \n",
       "12152           218516.0                  29839.0                 13776.0   \n",
       "12153           231632.0                  30496.0                 13773.0   \n",
       "12154           252932.0                  32949.0                 23753.0   \n",
       "12155           269732.0                  34969.0                 18820.0   \n",
       "\n",
       "       daily_vaccinations  total_vaccinations_per_hundred  \\\n",
       "0                     0.0                            0.00   \n",
       "6                  1367.0                            0.02   \n",
       "22                 2862.0                            0.14   \n",
       "44                 3000.0                            0.31   \n",
       "45                    0.0                            0.00   \n",
       "...                   ...                             ...   \n",
       "12151             12724.0                            1.58   \n",
       "12152             12246.0                            1.67   \n",
       "12153             11816.0                            1.76   \n",
       "12154             13172.0                            1.92   \n",
       "12155             14071.0                            2.05   \n",
       "\n",
       "       people_vaccinated_per_hundred  people_fully_vaccinated_per_hundred  \\\n",
       "0                               0.00                                 0.00   \n",
       "6                               0.00                                 0.00   \n",
       "22                              0.00                                 0.00   \n",
       "44                              0.00                                 0.00   \n",
       "45                              0.00                                 0.00   \n",
       "...                              ...                                  ...   \n",
       "12151                           0.20                                 0.20   \n",
       "12152                           0.20                                 0.20   \n",
       "12153                           0.21                                 0.21   \n",
       "12154                           0.22                                 0.22   \n",
       "12155                           0.24                                 0.24   \n",
       "\n",
       "       daily_vaccinations_per_million                  vaccines  \\\n",
       "0                                 0.0        Oxford/AstraZeneca   \n",
       "6                                35.0        Oxford/AstraZeneca   \n",
       "22                               74.0        Oxford/AstraZeneca   \n",
       "44                               77.0        Oxford/AstraZeneca   \n",
       "45                                0.0  Pfizer/BioNTech, Sinovac   \n",
       "...                               ...                       ...   \n",
       "12151                           856.0         Sinopharm/Beijing   \n",
       "12152                           824.0         Sinopharm/Beijing   \n",
       "12153                           795.0         Sinopharm/Beijing   \n",
       "12154                           886.0         Sinopharm/Beijing   \n",
       "12155                           947.0         Sinopharm/Beijing   \n",
       "\n",
       "                     source_name  \\\n",
       "0      Government of Afghanistan   \n",
       "6      Government of Afghanistan   \n",
       "22     Government of Afghanistan   \n",
       "44     Government of Afghanistan   \n",
       "45            Ministry of Health   \n",
       "...                          ...   \n",
       "12151         Ministry of Health   \n",
       "12152         Ministry of Health   \n",
       "12153         Ministry of Health   \n",
       "12154         Ministry of Health   \n",
       "12155         Ministry of Health   \n",
       "\n",
       "                                          source_website  date_diff  \n",
       "0      http://www.xinhuanet.com/english/asiapacific/2...        0.0  \n",
       "6      http://www.xinhuanet.com/english/asiapacific/2...     8200.0  \n",
       "22     http://www.xinhuanet.com/english/asiapacific/2...    54000.0  \n",
       "44     http://www.xinhuanet.com/english/asiapacific/2...   120000.0  \n",
       "45     https://twitter.com/gmanastirliu/status/138313...        0.0  \n",
       "...                                                  ...        ...  \n",
       "12151  https://twitter.com/MoHCCZim/status/1383174384...   234579.0  \n",
       "12152  https://twitter.com/MoHCCZim/status/1383174384...   248355.0  \n",
       "12153  https://twitter.com/MoHCCZim/status/1383174384...   262128.0  \n",
       "12154  https://twitter.com/MoHCCZim/status/1383174384...   285881.0  \n",
       "12155  https://twitter.com/MoHCCZim/status/1383174384...   304701.0  \n",
       "\n",
       "[7316 rows x 16 columns]"
      ]
     },
     "execution_count": 36,
     "metadata": {},
     "output_type": "execute_result"
    }
   ],
   "source": [
    "dt6"
   ]
  },
  {
   "cell_type": "code",
   "execution_count": 40,
   "metadata": {},
   "outputs": [
    {
     "name": "stdout",
     "output_type": "stream",
     "text": [
      "[1.]\n",
      "-8.847564458847046e-09\n"
     ]
    }
   ],
   "source": [
    "#creating model\n",
    "model=LinearRegression()\n",
    "# lets create our x and Y variable\n",
    "x=dt6[['date_diff']]\n",
    "y=dt6['total_vaccinations']\n",
    "res = model.fit(x,y)\n",
    "print(res.coef_)\n",
    "print(res.intercept_)"
   ]
  },
  {
   "cell_type": "code",
   "execution_count": 41,
   "metadata": {},
   "outputs": [
    {
     "name": "stdout",
     "output_type": "stream",
     "text": [
      "[-8.84756446e-09  8.20000000e+03  5.40000000e+04 ...  2.62128000e+05\n",
      "  2.85881000e+05  3.04701000e+05]\n"
     ]
    }
   ],
   "source": [
    "#lets predict after 1 year how many vaccines will be made i.e 365 days so our x value will be 365\n",
    "pr=model.predict(x)\n",
    "print(pr)"
   ]
  },
  {
   "cell_type": "code",
   "execution_count": 42,
   "metadata": {
    "scrolled": true
   },
   "outputs": [
    {
     "data": {
      "text/plain": [
       "[<matplotlib.lines.Line2D at 0x7fc10c677e50>]"
      ]
     },
     "execution_count": 42,
     "metadata": {},
     "output_type": "execute_result"
    },
    {
     "data": {
      "image/png": "[encoded data removed]",
      "text/plain": [
       "<Figure size 1080x360 with 1 Axes>"
      ]
     },
     "metadata": {
      "needs_background": "light"
     },
     "output_type": "display_data"
    }
   ],
   "source": [
    "#lets visualize our total vaccination by day\n",
    "fig,ax=plt.subplots(figsize=(15,5))\n",
    "plt.title('Best Fit Line')\n",
    "plt.scatter(x=dt6['date_diff'],y=dt6['total_vaccinations'])\n",
    "plt.plot(x,pr)"
   ]
  },
  {
   "cell_type": "markdown",
   "metadata": {},
   "source": [
    "analyst : based on plot above, total vacinate is straight with date diff"
   ]
  },
  {
   "cell_type": "code",
   "execution_count": 43,
   "metadata": {},
   "outputs": [
    {
     "name": "stdout",
     "output_type": "stream",
     "text": [
      "999\n"
     ]
    }
   ],
   "source": [
    "# lets predict for after 1000 days\n",
    "\n",
    "print(int(model.predict([[1000]])))"
   ]
  },
  {
   "cell_type": "markdown",
   "metadata": {},
   "source": [
    "analyst : value we got from prediction represent to best fit line plot. \n",
    "\n",
    "Thus, we would predict 999 will be complete in 1000 days ahead.\n"
   ]
  },
  {
   "cell_type": "markdown",
   "metadata": {},
   "source": [
    "How Well Does the Model Fit the data?"
   ]
  },
  {
   "cell_type": "code",
   "execution_count": 46,
   "metadata": {},
   "outputs": [
    {
     "data": {
      "text/plain": [
       "1.0"
      ]
     },
     "execution_count": 46,
     "metadata": {},
     "output_type": "execute_result"
    }
   ],
   "source": [
    "res.score(x, y)"
   ]
  },
  {
   "cell_type": "markdown",
   "metadata": {},
   "source": [
    "Model Evaluation Metrics for Regression"
   ]
  },
  {
   "cell_type": "code",
   "execution_count": 49,
   "metadata": {},
   "outputs": [
    {
     "name": "stdout",
     "output_type": "stream",
     "text": [
      "247501.0\n",
      "204525495001.0\n",
      "452244.95022166916\n"
     ]
    }
   ],
   "source": [
    "# define true and predicted response values\n",
    "y_true = [100, 1000, 100000, 1000000]\n",
    "y_pred = [99, 999, 9999, 99999]\n",
    "\n",
    "# calculate MAE, MSE, RMSE\n",
    "print(metrics.mean_absolute_error(y_true, y_pred))\n",
    "print(metrics.mean_squared_error(y_true, y_pred))\n",
    "print(np.sqrt(metrics.mean_squared_error(y_true, y_pred)))\n",
    "\n"
   ]
  },
  {
   "cell_type": "code",
   "execution_count": null,
   "metadata": {},
   "outputs": [],
   "source": []
  }
 ],
 "metadata": {
  "kernelspec": {
   "display_name": "Python 3",
   "language": "python",
   "name": "python3"
  },
  "language_info": {
   "codemirror_mode": {
    "name": "ipython",
    "version": 3
   },
   "file_extension": ".py",
   "mimetype": "text/x-python",
   "name": "python",
   "nbconvert_exporter": "python",
   "pygments_lexer": "ipython3",
   "version": "3.8.3"
  }
 },
 "nbformat": 4,
 "nbformat_minor": 4
}
